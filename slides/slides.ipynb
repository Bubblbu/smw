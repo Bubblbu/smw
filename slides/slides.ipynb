{
 "cells": [
  {
   "cell_type": "markdown",
   "id": "f28a6dc8-7433-4bdd-a95a-149e3bab0bde",
   "metadata": {
    "slideshow": {
     "slide_type": "slide"
    },
    "tags": []
   },
   "source": [
    "# Working with Scholarly Metadata\n",
    "\n",
    "> some thoughts, some tips\n",
    "\n",
    "\n",
    "\n",
    "Asura Enkhbayar | April 3rd, 2023"
   ]
  },
  {
   "cell_type": "markdown",
   "id": "a77614f2-f894-41b1-a5c2-bfda5139928e",
   "metadata": {
    "slideshow": {
     "slide_type": "subslide"
    },
    "tags": []
   },
   "source": [
    "## Outline"
   ]
  },
  {
   "cell_type": "markdown",
   "id": "83de1294-ebd0-4205-a6ab-9a71fdf84fb4",
   "metadata": {
    "slideshow": {
     "slide_type": "fragment"
    },
    "tags": []
   },
   "source": [
    "- (*some thoughts*) on **scholarly metadata**\n",
    "    - provenance debt"
   ]
  },
  {
   "cell_type": "markdown",
   "id": "cdac5892-5399-4d96-a98b-6a3b9431194b",
   "metadata": {
    "slideshow": {
     "slide_type": "fragment"
    },
    "tags": []
   },
   "source": [
    "- (*some tips*) for **working with**\n",
    "    - data\n",
    "    - projects\n",
    "    - code"
   ]
  },
  {
   "cell_type": "markdown",
   "id": "37f8b07d-33c3-46fc-ba7b-95decc625981",
   "metadata": {
    "slideshow": {
     "slide_type": "slide"
    },
    "tags": []
   },
   "source": [
    "## ... Scholarly Metadata"
   ]
  },
  {
   "cell_type": "markdown",
   "id": "714eec57-3aa3-42d0-a8b6-e5caf6eb34e0",
   "metadata": {
    "slideshow": {
     "slide_type": "fragment"
    },
    "tags": []
   },
   "source": [
    "What even is scholarly metadata or where to begin with scholarly metadata?\n",
    "\n",
    "How can *provenance debt* help to answer these questions?\n",
    "\n",
    "https://docs.google.com/presentation/d/1cQoPxYi49n4GuEHsxayrtj3S74BVRrlqRenYpteAIts/edit?usp=sharing"
   ]
  },
  {
   "cell_type": "markdown",
   "id": "f8be56ae-9ce1-434c-a237-7c86c30978ce",
   "metadata": {
    "slideshow": {
     "slide_type": "slide"
    },
    "tags": []
   },
   "source": [
    "## Working with ...\n",
    "\n",
    "- Data sources, APIs, Clients\n",
    "- Organizing projects, data, code\n",
    "- Code stuff"
   ]
  },
  {
   "cell_type": "markdown",
   "id": "bbc35407-220d-4a51-8c56-f4553ef8e064",
   "metadata": {
    "slideshow": {
     "slide_type": "slide"
    },
    "tags": []
   },
   "source": [
    "### Data sources, APIs, clients"
   ]
  },
  {
   "cell_type": "markdown",
   "id": "59245ad0-78ae-4d47-9b0a-5748cbbf87c5",
   "metadata": {
    "slideshow": {
     "slide_type": "subslide"
    },
    "tags": []
   },
   "source": [
    "#### Tip 1 - Read the docs\n",
    "\n",
    "1. **Read the docs**\n",
    "2. **Read the docs**\n",
    "3. **Read the docs**"
   ]
  },
  {
   "cell_type": "markdown",
   "id": "37e078c9-57d2-4099-9d23-d0ce8077b1de",
   "metadata": {
    "slideshow": {
     "slide_type": "subslide"
    },
    "tags": []
   },
   "source": [
    "#### Tip 1 - Read the docs\n",
    "\n",
    "1. **Read the docs** of the data source\n",
    "2. **Read the docs** of the API\n",
    "3. **Read the docs** of the API client"
   ]
  },
  {
   "cell_type": "markdown",
   "id": "34969d2f-6929-4e98-bc15-71cdac20b143",
   "metadata": {
    "slideshow": {
     "slide_type": "subslide"
    },
    "tags": []
   },
   "source": [
    "#### Example - working with Crossref\n",
    "\n",
    "**Data Source**\n",
    "\n",
    "- [Crossref schema library](https://www.crossref.org/documentation/schema-library/) is useful but mostly intended for publishers\n",
    "\n",
    "**REST API**\n",
    "\n",
    "- Current REST API documentation lives at https://api.crossref.org/\n",
    "- **However**, the [deprecated documentation](https://github.com/CrossRef/rest-api-doc) provides many concrete examples and use-cases\n",
    "- Similarly, [Github Issues](https://github.com/CrossRef/rest-api-doc/issues) are a great resource for questions\n",
    "\n",
    "**API Clients**\n",
    "\n",
    "- https://github.com/sckott/habanero\n",
    "- https://commonmeta-py.docs.front-matter.io/"
   ]
  },
  {
   "cell_type": "markdown",
   "id": "4472bb7f-24c8-4691-9bb3-494dec9e918f",
   "metadata": {
    "slideshow": {
     "slide_type": "subslide"
    },
    "tags": []
   },
   "source": [
    "#### Tip 2 - Learn `reqests`\n",
    "\n",
    "API clients are great but learn how to work with APIs directly.\n",
    "\n",
    "- Recommendation: [requests](https://docs.python-requests.org/en/latest/index.html)"
   ]
  },
  {
   "cell_type": "markdown",
   "id": "5c085cc6-8627-4a5b-92f8-1bf904d1ee74",
   "metadata": {
    "slideshow": {
     "slide_type": "slide"
    },
    "tags": []
   },
   "source": [
    "### Data Science Projects"
   ]
  },
  {
   "cell_type": "markdown",
   "id": "d5b4168e-65d2-458e-b36a-0e006acd2ef5",
   "metadata": {
    "slideshow": {
     "slide_type": "subslide"
    },
    "tags": []
   },
   "source": [
    "#### Tip 3 - Think about structure\n",
    "\n",
    "- Project\n",
    "    - What kind of outcomes are expected? Research article, software, datasets...\n",
    "- Data structure\n",
    "    - Outline the processing pipeline\n",
    "- Code structure\n",
    "    - Notebooks, scripts, local processing vs server, ...\n",
    "\n",
    "The [Cookiecutter Data Science Template](https://drivendata.github.io/cookiecutter-data-science/) is great but an overkill for most research projects. Instead, [this SCL example](https://github.com/ScholCommLab/altmetric-news-quality) might be helpful."
   ]
  },
  {
   "cell_type": "markdown",
   "id": "01381d3d-bff6-4e3d-b021-b0b9bd39dbf5",
   "metadata": {
    "slideshow": {
     "slide_type": "subslide"
    },
    "tags": []
   },
   "source": [
    "#### Tip 4 - Document changes \n",
    "\n",
    "Don't shy away from (re-)organizing files, data, and code as the project evolves.\n",
    "\n",
    "However, try to document these changes. You will think yourself when writing your methods sections...\n",
    "\n",
    "I've previously (mis)used Github Wiki pages as a [research changelog](https://github.com/ScholCommLab/altmetric-news-quality/wiki)."
   ]
  },
  {
   "cell_type": "markdown",
   "id": "e786347d-6c7f-4eae-b545-4d6a4497e778",
   "metadata": {
    "slideshow": {
     "slide_type": "subslide"
    },
    "tags": []
   },
   "source": [
    "#### Tip 5 - Managing code environments & dependencies\n",
    "\n",
    "- Managing Python distributions at system level: [`pyenv`](https://github.com/pyenv/pyenv)\n",
    "- Installing Python programs like regular apps: [`pipx`](https://pypa.github.io/pipx/)\n",
    "- Managing project dependencies & environments: [`poetry`](https://python-poetry.org/)"
   ]
  },
  {
   "cell_type": "markdown",
   "id": "55ce234b-cf36-4b52-808c-eca80ce847bf",
   "metadata": {
    "slideshow": {
     "slide_type": "slide"
    },
    "tags": []
   },
   "source": [
    "### Coding in Python"
   ]
  },
  {
   "cell_type": "markdown",
   "id": "2235371a-f375-4d0c-84ee-fcc05c6a2889",
   "metadata": {
    "slideshow": {
     "slide_type": "subslide"
    },
    "tags": []
   },
   "source": [
    "#### Tip 6 - Streaming data with JSON Lines\n",
    "\n",
    "Too small for big data, but still too big for RAM \n",
    "\n",
    "- Consider using JSON lines over CSV/JSON for raw data\n",
    "- Sampling and streaming are your friends\n",
    "- Pandas is amazing but not made for this kind of stuff"
   ]
  },
  {
   "cell_type": "code",
   "execution_count": null,
   "id": "c535b0cd-346e-4ce7-bed8-aa74025cdfaf",
   "metadata": {
    "slideshow": {
     "slide_type": "fragment"
    },
    "tags": []
   },
   "outputs": [],
   "source": [
    "import pandas as pd\n",
    "\n",
    "# Reading .jsonl\n",
    "df = pd.read_json(\"input.jsonl\", lines=True)\n",
    "\n",
    "# Writing .jsonl\n",
    "df.to_json(\"output.jsonl\", lines=True, orient=\"records\")"
   ]
  },
  {
   "cell_type": "markdown",
   "id": "ff62a886-9d9d-4da4-8f62-428e713bb737",
   "metadata": {
    "slideshow": {
     "slide_type": "subslide"
    },
    "tags": []
   },
   "source": [
    "#### Tip 7 - Document your collection process\n",
    "\n",
    "There is never too much metadata about our collection processes\n",
    "\n",
    "- ISO timestamps"
   ]
  },
  {
   "cell_type": "code",
   "execution_count": null,
   "id": "07713a28-6b74-4d1f-975f-ab1353b84d96",
   "metadata": {
    "slideshow": {
     "slide_type": "fragment"
    },
    "tags": []
   },
   "outputs": [],
   "source": [
    "import datetime\n",
    "\n",
    "ts = datetime.datetime.now().isoformat()"
   ]
  },
  {
   "cell_type": "markdown",
   "id": "074eb4ae-e5b6-41be-9d08-cc69dd5f6665",
   "metadata": {
    "slideshow": {
     "slide_type": "fragment"
    },
    "tags": []
   },
   "source": [
    "- Handle those exceptions"
   ]
  },
  {
   "cell_type": "code",
   "execution_count": null,
   "id": "8683d52e-b590-4eb8-9521-6f22ab0a58e8",
   "metadata": {
    "slideshow": {
     "slide_type": "fragment"
    },
    "tags": []
   },
   "outputs": [],
   "source": [
    "try:\n",
    "    response = requests.get()\n",
    "except Exception as e:\n",
    "    error = e"
   ]
  },
  {
   "cell_type": "markdown",
   "id": "bb328526-7190-421a-8566-1604ad8ad9f2",
   "metadata": {
    "slideshow": {
     "slide_type": "subslide"
    },
    "tags": []
   },
   "source": [
    "#### Tip 8 - Don't overwrite your files...\n",
    "\n",
    "> just don't..."
   ]
  },
  {
   "cell_type": "code",
   "execution_count": null,
   "id": "857ef799-cf7d-478f-b4de-31531f29c5c1",
   "metadata": {
    "slideshow": {
     "slide_type": "fragment"
    },
    "tags": []
   },
   "outputs": [],
   "source": [
    "from pathlib import Path\n",
    "\n",
    "output_file = Path(\"this/took/a/week/to/process.csv\")\n",
    "\n",
    "# inelegant lifesaver\n",
    "if output_file.exists():\n",
    "    sys.exit() \n",
    "\n",
    "print(\"you can thank me later\")"
   ]
  },
  {
   "cell_type": "markdown",
   "id": "b021681e-7bb8-4f90-8a48-ec34879d0fea",
   "metadata": {
    "slideshow": {
     "slide_type": "subslide"
    },
    "tags": []
   },
   "source": [
    "#### Tip 10 - Nice progress bars are amazing\n",
    "\n",
    "> Just start using `tqdm` ❤️\n",
    "\n",
    "https://github.com/tqdm/tqdm"
   ]
  },
  {
   "cell_type": "code",
   "execution_count": 18,
   "id": "7542a9ec-90a8-42ce-9832-2cd8e0ef9a99",
   "metadata": {
    "slideshow": {
     "slide_type": "fragment"
    },
    "tags": []
   },
   "outputs": [
    {
     "data": {
      "application/vnd.jupyter.widget-view+json": {
       "model_id": "3cef14b54da94576930576e7b8890cc3",
       "version_major": 2,
       "version_minor": 0
      },
      "text/plain": [
       "  0%|          | 0/50 [00:00<?, ?it/s]"
      ]
     },
     "metadata": {},
     "output_type": "display_data"
    }
   ],
   "source": [
    "import time\n",
    "\n",
    "from tqdm.notebook import tqdm\n",
    "\n",
    "long_list = list(range(0,50))\n",
    "\n",
    "for item in tqdm(long_list):\n",
    "    time.sleep(0.5)"
   ]
  },
  {
   "cell_type": "markdown",
   "id": "f3ff2b79-8208-4163-96dc-9d4ef162e7e8",
   "metadata": {
    "slideshow": {
     "slide_type": "slide"
    },
    "tags": []
   },
   "source": [
    "#### One final example\n",
    "\n",
    "Putting together those tips to query the Crossref API with a list of DOIs"
   ]
  },
  {
   "cell_type": "code",
   "execution_count": null,
   "id": "09227ec2-4ba0-4b6f-96b8-0ee863b953e2",
   "metadata": {
    "slideshow": {
     "slide_type": "fragment"
    },
    "tags": []
   },
   "outputs": [],
   "source": [
    "def collect_references(overwrite: False):\n",
    "    if crossref_responses_f.exists():\n",
    "        if overwrite:\n",
    "            with open(crossref_responses_f, 'w') as f:\n",
    "                for doi in tqdm(dois):\n",
    "                    ts = datetime.datetime.now().isoformat()\n",
    "                    error = None\n",
    "\n",
    "                    try:\n",
    "                        response = cr.works(doi, warn=True)\n",
    "\n",
    "                        if response['status'] != 'ok':\n",
    "                            error = response['status']\n",
    "                        else:\n",
    "                            f.write(json.dumps(response[\"message\"]) + \"\\n\")\n",
    "                    except Exception as e:\n",
    "                        error = e\n",
    "\n",
    "                    # Update collection progress\n",
    "                    update_collection_progress(doi, ts, error)\n",
    "        else:\n",
    "            print(\"file already exists\")"
   ]
  }
 ],
 "metadata": {
  "kernelspec": {
   "display_name": "osi-protocols",
   "language": "python",
   "name": "osi-protocols"
  },
  "language_info": {
   "codemirror_mode": {
    "name": "ipython",
    "version": 3
   },
   "file_extension": ".py",
   "mimetype": "text/x-python",
   "name": "python",
   "nbconvert_exporter": "python",
   "pygments_lexer": "ipython3",
   "version": "3.9.16"
  }
 },
 "nbformat": 4,
 "nbformat_minor": 5
}
